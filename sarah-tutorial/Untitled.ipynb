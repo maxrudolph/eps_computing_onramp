{
 "cells": [
  {
   "cell_type": "code",
   "execution_count": null,
   "metadata": {},
   "outputs": [],
   "source": [
    "\n",
    "\n",
    "This notebook reads in ANEOS model SESAME-format tables. These are gridded with density and temperature as the independent variables. The table contains pressure, specific internal energy, specific helmholtz free energy, and specific entropy, and sound speed. <p>\n",
    "\n",
    "The density-temperature table is interpolated to generate a density-entropy table. This is the format for the GADGET2 Smoothed Particle Hydrodynamics (SPH) code that is one of several SPH codes used to model giant impacts. The density-entropy format table is ideal for internal structure calculations because most planets have an internal pressure-temperature profile that is adiabatic (near an isentrope) as a result of convection. Here, the table is linearly interpolated for expediency and because the original table is finely gridded. It would be better to interpolate using a scheme that preserves thermodynamic consistency in the interpolated points (e.g., http://www.astro.sunysb.edu/dswesty/docs/tcteos.ps). <p>\n",
    "\n",
    "The EOS table variable are named:<br>\n",
    "darrcore = array of density g/cm3<br>\n",
    "sarrcore = array of specific entropy MJ/K/kg<br>\n",
    "pgridcore = pressure grid (entropy, density) GPa<br>\n",
    "egridcore = internal energy grid (entropy, density) MJ/kg<br>\n",
    "cgridcore = sound speed grid (entropy, density) cm/s<br>\n",
    "tgridcore = temp grid (entropy, density) K<br>\n",
    "And the mantle variables are named darrmantle, etc.<p>\n",
    "\n",
    "For these rocky (Earth-like) planets, we assume the core is pure iron and the mantle is pure forsterite. These pure compositions are often used to model giant impacts. Some of the issues with this assumption will be identified in this exercise. <p>\n"
   ]
  }
 ],
 "metadata": {
  "kernelspec": {
   "display_name": "Python 3",
   "language": "python",
   "name": "python3"
  },
  "language_info": {
   "codemirror_mode": {
    "name": "ipython",
    "version": 3
   },
   "file_extension": ".py",
   "mimetype": "text/x-python",
   "name": "python",
   "nbconvert_exporter": "python",
   "pygments_lexer": "ipython3",
   "version": "3.7.3"
  }
 },
 "nbformat": 4,
 "nbformat_minor": 2
}
